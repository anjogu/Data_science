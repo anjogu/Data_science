{
 "cells": [
  {
   "cell_type": "markdown",
   "metadata": {},
   "source": [
    "# Introduction to Version Control\n",
    "\n",
    " Getting Started - Installing Git\n",
    "https://git-scm.com/book/en/v2/Getting-Started-Installing-Git\n",
    "\n",
    "!['imageone'](workflow.png)\n",
    "\n",
    "EvanWill 2017 https://uidaholib.github.io/get-git/3workflow.html"
   ]
  },
  {
   "cell_type": "markdown",
   "metadata": {},
   "source": [
    "## Getting Started - Using Git\n",
    "1 # Open Git Bash\n",
    "\n",
    "2 # make directory sampleDirectory\n",
    "mkdir sampleDirectory\n",
    "\n",
    "3 # enter  sampleDirectory\n",
    "cd    ADS sampleDirectory\n",
    "\n",
    "4)# create files \n",
    "touch  notebook1.ipynb"
   ]
  },
  {
   "cell_type": "markdown",
   "metadata": {},
   "source": [
    "### Step 1: Create a local git repository \n",
    "\n",
    "1 # Initializing a repository /setup repo /create repo \n",
    "git init\n",
    "\n",
    "<!-- Staging files -->\n",
    "\n",
    "<!-- Stages the current directory and all its content -->\n",
    "git add ."
   ]
  }
 ],
 "metadata": {
  "language_info": {
   "name": "python"
  }
 },
 "nbformat": 4,
 "nbformat_minor": 2
}
